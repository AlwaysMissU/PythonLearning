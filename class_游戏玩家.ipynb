{
 "cells": [
  {
   "cell_type": "markdown",
   "id": "d63144b9",
   "metadata": {},
   "source": [
    "定义一个Person类，\n",
    "属性包含姓名，性别，年龄和战斗值，\n",
    "同时定义一个类属性Counter用于对象计数，\n",
    "Person类对象具有战斗（battle）、练习（practise）、吃饭（eat）和显示信息（info）方法，\n",
    "其中战斗一次扣除战斗值100，练习一次增加战斗值200，吃饭一次增加战斗值80，\n",
    "信息方法中显示形如”I am player *, I have * fighting value.“（*为具体的值）。已知有两个小伙伴xiaohua和xiaoqiang，其中xiaohua是女生（F）、18岁，初始战斗值为2000，xiaoqiang是男生（M）、19岁，初始战斗值为1500，假设输出信息如下：\n",
    " \n",
    "      I am player 1 xiaohua, I have 2000 fighting value.\n",
    " \n",
    "     I am player 1 xiaohua, I have 1980 fighting value.\n",
    "      I am player 2 xiaoqiang, I have 1760 fighting value.\n",
    " \n",
    " 请写出相应的类，并实例化对象，设计完成相应的任务（battle、practise或eat及info）并输出。"
   ]
  },
  {
   "cell_type": "code",
   "execution_count": 1,
   "id": "6bca1c66",
   "metadata": {},
   "outputs": [
    {
     "name": "stdout",
     "output_type": "stream",
     "text": [
      "I am player 1 xiaohua,\n",
      "I am player 1 xiaohua,\n"
     ]
    }
   ],
   "source": [
    "class Person(object):\n",
    "    Counter = 0#同时定义一个类属性Counter用于对象计数\n",
    "    def __init__(self, name, gender, age, fight_value):\n",
    "        #属性包含姓名，性别，年龄和战斗值\n",
    "        Person.Counter += 1\n",
    "        self.name = name\n",
    "        self.gender = gender\n",
    "        self.age = age\n",
    "        self.fig = fight_value\n",
    "    #Person类对象具有战斗（battle）、练习（practise）、吃饭（eat）和显示信息（info）方法，\n",
    "       \n",
    "    #其中战斗一次扣除战斗值100，练习一次增加战斗值200，吃饭一次增加战斗值80，\n",
    "    def battle(self):\n",
    "        self.fig -= 100\n",
    "        \n",
    "    def practise(self):\n",
    "        self.fig += 200\n",
    "        \n",
    "    def eat(self):\n",
    "        self.fig += 80\n",
    "        \n",
    "    #信息方法中显示形如”I am player *, I have * fighting value.\n",
    "    def info(self):\n",
    "        print(\"I am player {} {},\".format(Person.Counter, self.name))\n",
    "        \n",
    "player1 = Person('xiaohua', 'F', 18, 2000)\n",
    "player1.info()\n",
    "player1.battle()\n",
    "player1.eat()\n",
    "player1.info()\n",
    "        \n",
    "        \n",
    "        \n",
    "        \n",
    "        \n",
    "        \n",
    "        \n",
    "        \n",
    "        \n",
    "        \n",
    "        \n",
    "        \n",
    "        \n",
    "        \n",
    "        \n",
    "        \n",
    "        \n",
    "        \n",
    "        \n",
    "        \n",
    "        \n",
    "        "
   ]
  },
  {
   "cell_type": "code",
   "execution_count": null,
   "id": "4cc1868d",
   "metadata": {},
   "outputs": [],
   "source": []
  }
 ],
 "metadata": {
  "celltoolbar": "原始单元格格式",
  "kernelspec": {
   "display_name": "Python 3 (ipykernel)",
   "language": "python",
   "name": "python3"
  },
  "language_info": {
   "codemirror_mode": {
    "name": "ipython",
    "version": 3
   },
   "file_extension": ".py",
   "mimetype": "text/x-python",
   "name": "python",
   "nbconvert_exporter": "python",
   "pygments_lexer": "ipython3",
   "version": "3.11.5"
  }
 },
 "nbformat": 4,
 "nbformat_minor": 5
}
